{
  "nbformat": 4,
  "nbformat_minor": 0,
  "metadata": {
    "colab": {
      "name": "The %tensorflow_version magic",
      "provenance": [],
      "collapsed_sections": [],
      "include_colab_link": true
    },
    "kernelspec": {
      "display_name": "Python 3",
      "name": "python3"
    }
  },
  "cells": [
    {
      "cell_type": "markdown",
      "metadata": {
        "id": "view-in-github",
        "colab_type": "text"
      },
      "source": [
        "<a href=\"https://colab.research.google.com/github/maidatascientist/Python-for-Data-Science-and-Machine-Learning-Bootcamp/blob/master/The_tensorflow_version_magic.ipynb\" target=\"_parent\"><img src=\"https://colab.research.google.com/assets/colab-badge.svg\" alt=\"Open In Colab\"/></a>"
      ]
    },
    {
      "cell_type": "markdown",
      "metadata": {
        "id": "nPDc8yQtVxk4"
      },
      "source": [
        "#TensorFlow versions in Colab"
      ]
    },
    {
      "cell_type": "markdown",
      "metadata": {
        "id": "N2y2uqx9GfA5"
      },
      "source": [
        "\n",
        "##Background\n",
        "Colab has two versions of TensorFlow pre-installed: a 2.x version and a 1.x version. Colab uses TensorFlow 2.x by default, though you can switch to 1.x by the method shown below.\n"
      ]
    },
    {
      "cell_type": "markdown",
      "metadata": {
        "id": "aR_btJrKGdw7"
      },
      "source": [
        "##Specifying the TensorFlow version\n",
        "\n",
        "Running `import tensorflow` will import the default version (currently 2.x). You can use 1.x by running a cell with the `tensorflow_version` magic **before** you run `import tensorflow`."
      ]
    },
    {
      "cell_type": "code",
      "metadata": {
        "colab": {
          "base_uri": "https://localhost:8080/"
        },
        "id": "NeWVBhf1VxlH",
        "outputId": "1cf1a5c4-1691-48ca-ac4a-5ae110c242f0"
      },
      "source": [
        "%tensorflow_version 1.x"
      ],
      "execution_count": 1,
      "outputs": [
        {
          "output_type": "stream",
          "name": "stdout",
          "text": [
            "TensorFlow 1.x selected.\n"
          ]
        }
      ]
    },
    {
      "cell_type": "markdown",
      "metadata": {
        "id": "8dSlimhOVxlQ"
      },
      "source": [
        "Once you have specified a version via this magic, you can run `import tensorflow` as normal and verify which version was imported as follows:"
      ]
    },
    {
      "cell_type": "code",
      "metadata": {
        "colab": {
          "base_uri": "https://localhost:8080/"
        },
        "id": "-XbfkU7BeziQ",
        "outputId": "20df640c-7b52-4837-baa5-e7c9d5482e2a"
      },
      "source": [
        "import tensorflow\n",
        "print(tensorflow.__version__)"
      ],
      "execution_count": 2,
      "outputs": [
        {
          "output_type": "stream",
          "name": "stdout",
          "text": [
            "1.15.2\n"
          ]
        }
      ]
    },
    {
      "cell_type": "markdown",
      "metadata": {
        "id": "uBIKyjpEVxlU"
      },
      "source": [
        "If you want to switch TensorFlow versions after import, you **will need to restart your runtime** with 'Runtime' -> 'Restart runtime...' and then specify the version before you import it again."
      ]
    },
    {
      "cell_type": "code",
      "metadata": {
        "id": "3xQgQKRISh94"
      },
      "source": [
        "import tensorflow as tf\n",
        "hello = tf.constant('hello')"
      ],
      "execution_count": 4,
      "outputs": []
    },
    {
      "cell_type": "code",
      "metadata": {
        "id": "A6s7bEyja88D",
        "outputId": "d75f8ea6-d077-49a4-a065-91e4ca362ba8",
        "colab": {
          "base_uri": "https://localhost:8080/"
        }
      },
      "source": [
        "type(hello)"
      ],
      "execution_count": 5,
      "outputs": [
        {
          "output_type": "execute_result",
          "data": {
            "text/plain": [
              "tensorflow.python.framework.ops.Tensor"
            ]
          },
          "metadata": {},
          "execution_count": 5
        }
      ]
    },
    {
      "cell_type": "code",
      "metadata": {
        "id": "bNzZ-fOgbBFW"
      },
      "source": [
        "a=tf.constant(10)\n",
        "b=tf.constant(20)\n",
        "sess=tf.Session()\n"
      ],
      "execution_count": 8,
      "outputs": []
    },
    {
      "cell_type": "code",
      "metadata": {
        "id": "QGzhBLiWdJ7Y",
        "outputId": "68a8a41a-c5eb-4d17-9027-646df668a1fb",
        "colab": {
          "base_uri": "https://localhost:8080/"
        }
      },
      "source": [
        "sess.run(a+b)"
      ],
      "execution_count": 9,
      "outputs": [
        {
          "output_type": "execute_result",
          "data": {
            "text/plain": [
              "30"
            ]
          },
          "metadata": {},
          "execution_count": 9
        }
      ]
    },
    {
      "cell_type": "code",
      "metadata": {
        "id": "EwZncnzWdOe_"
      },
      "source": [
        ""
      ],
      "execution_count": null,
      "outputs": []
    },
    {
      "cell_type": "markdown",
      "metadata": {
        "id": "Oh4_bznWjjhZ"
      },
      "source": [
        "2.1 lab process "
      ]
    },
    {
      "cell_type": "code",
      "metadata": {
        "id": "lgyElWUkjph4"
      },
      "source": [
        "import tensorflow as tf\n",
        "hello= tf.constant(\"hello\")\n"
      ],
      "execution_count": 13,
      "outputs": []
    },
    {
      "cell_type": "code",
      "metadata": {
        "id": "XPEAUAPVkYTK",
        "outputId": "a73f5fe3-52d0-4813-e39b-426260d70ac8",
        "colab": {
          "base_uri": "https://localhost:8080/"
        }
      },
      "source": [
        "sess.run(hello)"
      ],
      "execution_count": 15,
      "outputs": [
        {
          "output_type": "execute_result",
          "data": {
            "text/plain": [
              "b'hello'"
            ]
          },
          "metadata": {},
          "execution_count": 15
        }
      ]
    },
    {
      "cell_type": "code",
      "metadata": {
        "id": "VbZnEAtkkoAT"
      },
      "source": [
        "a=tf.constant(3)\n",
        "b=tf.constant(8)\n",
        "sum=sess.run(a+b)"
      ],
      "execution_count": 16,
      "outputs": []
    },
    {
      "cell_type": "code",
      "metadata": {
        "id": "XRu_0eHbk_Sy",
        "outputId": "1fee7e40-8cb0-45c4-bc63-740fcfdde03a",
        "colab": {
          "base_uri": "https://localhost:8080/"
        }
      },
      "source": [
        "print(sum)"
      ],
      "execution_count": 18,
      "outputs": [
        {
          "output_type": "stream",
          "name": "stdout",
          "text": [
            "11\n"
          ]
        }
      ]
    },
    {
      "cell_type": "code",
      "metadata": {
        "id": "kxyll_8blHKA"
      },
      "source": [
        ""
      ],
      "execution_count": null,
      "outputs": []
    },
    {
      "cell_type": "markdown",
      "metadata": {
        "id": "TWMkmHzuttrX"
      },
      "source": [
        "**import the required modules , numpy for calculation and matplotlib for drawing** "
      ]
    },
    {
      "cell_type": "code",
      "metadata": {
        "id": "AYR7BQf2lAli"
      },
      "source": [
        "import numpy as np\n",
        "import matplotlib.pyplot as plt\n"
      ],
      "execution_count": 19,
      "outputs": []
    },
    {
      "cell_type": "code",
      "metadata": {
        "id": "1L03NgFPt_O4"
      },
      "source": [
        ""
      ],
      "execution_count": null,
      "outputs": []
    },
    {
      "cell_type": "markdown",
      "metadata": {
        "id": "auuG_7AeuA3M"
      },
      "source": [
        "define **data** \n",
        "chagne ***list*** to ***array ***"
      ]
    },
    {
      "cell_type": "code",
      "metadata": {
        "id": "G4WErMOGkeWE"
      },
      "source": [
        "\n",
        "#create list \n",
        "x=[3,21,22,34,54,34,55,67,89,99]\n",
        "# change list to array \n",
        "x=np.array(x)\n",
        "y=[1,10,14,34,44,36,22,67,79,90]\n",
        "y=np.array(y)"
      ],
      "execution_count": 40,
      "outputs": []
    },
    {
      "cell_type": "code",
      "metadata": {
        "id": "K_pvQ2XkwloC"
      },
      "source": [
        ""
      ],
      "execution_count": null,
      "outputs": []
    },
    {
      "cell_type": "code",
      "metadata": {
        "id": "GC80q7MIwMGe"
      },
      "source": [
        ""
      ],
      "execution_count": null,
      "outputs": []
    },
    {
      "cell_type": "code",
      "metadata": {
        "id": "dCeoNr93umrU",
        "outputId": "5b8bd42e-1b23-45c2-bb6f-1325f5f299e6",
        "colab": {
          "base_uri": "https://localhost:8080/"
        }
      },
      "source": [
        "print (x)"
      ],
      "execution_count": 27,
      "outputs": [
        {
          "output_type": "stream",
          "name": "stdout",
          "text": [
            "[ 3 21 22 34 36 22 67 79 90]\n"
          ]
        }
      ]
    },
    {
      "cell_type": "code",
      "metadata": {
        "id": "5gm2E5OfwNNH",
        "outputId": "5e6d13e6-7b79-4965-b913-ae11f67801b7",
        "colab": {
          "base_uri": "https://localhost:8080/"
        }
      },
      "source": [
        "print(y)"
      ],
      "execution_count": 28,
      "outputs": [
        {
          "output_type": "stream",
          "name": "stdout",
          "text": [
            "[ 1 10 14 34 44 36 22 67 79 90]\n"
          ]
        }
      ]
    },
    {
      "cell_type": "code",
      "metadata": {
        "id": "juTs7Qo5wPXi",
        "outputId": "7b093c2c-3cdb-407b-801f-687c227ea6d0",
        "colab": {
          "base_uri": "https://localhost:8080/",
          "height": 282
        }
      },
      "source": [
        "plt.scatter(x,y)"
      ],
      "execution_count": 31,
      "outputs": [
        {
          "output_type": "execute_result",
          "data": {
            "text/plain": [
              "<matplotlib.collections.PathCollection at 0x7f457dac3fd0>"
            ]
          },
          "metadata": {},
          "execution_count": 31
        },
        {
          "output_type": "display_data",
          "data": {
            "image/png": "[encoded data removed]",
            "text/plain": [
              "<Figure size 432x288 with 1 Axes>"
            ]
          },
          "metadata": {
            "needs_background": "light"
          }
        }
      ]
    },
    {
      "cell_type": "code",
      "metadata": {
        "id": "29r5Lw46wpHl",
        "outputId": "6591e30f-4e8a-49a7-d3b3-48dd8b54b126",
        "colab": {
          "base_uri": "https://localhost:8080/"
        }
      },
      "source": [
        "len(x)\n",
        "len(y)"
      ],
      "execution_count": 33,
      "outputs": [
        {
          "output_type": "execute_result",
          "data": {
            "text/plain": [
              "10"
            ]
          },
          "metadata": {},
          "execution_count": 33
        }
      ]
    },
    {
      "cell_type": "code",
      "metadata": {
        "id": "McJn2xQ6wx8e"
      },
      "source": [
        ""
      ],
      "execution_count": null,
      "outputs": []
    },
    {
      "cell_type": "markdown",
      "metadata": {
        "id": "bPuunwX1w1y3"
      },
      "source": [
        "**define related function **"
      ]
    },
    {
      "cell_type": "markdown",
      "metadata": {
        "id": "pji9m7Haw6Hy"
      },
      "source": [
        "**define related function **"
      ]
    },
    {
      "cell_type": "code",
      "metadata": {
        "id": "ReWn-yOGw9ci"
      },
      "source": [
        "#model_function :defines  a linear regression model \n",
        "#loss funcrion : loss function of mean square error \n",
        "#optimization function:gradient descent method to\n",
        "# find partial deriviatibes of w and b "
      ],
      "execution_count": 34,
      "outputs": []
    },
    {
      "cell_type": "code",
      "metadata": {
        "id": "_a-tIS51wVEx"
      },
      "source": [
        "# the basic linear regression model is wx+b s\n",
        "#since it is a two-dimentional space \n",
        "#the model is ax+b\n",
        "\n",
        "def model(a,b,x):\n",
        "  return a*x +b\n"
      ],
      "execution_count": 38,
      "outputs": []
    },
    {
      "cell_type": "code",
      "metadata": {
        "id": "cmNBItM34C8H"
      },
      "source": [
        "#the most commnly used loss function of linear regression model\n",
        "#is the loss function \n",
        "# mean varience different \n",
        "def loss_function(a,b,x,y):\n",
        "  num=len(x)\n",
        "  prediction=model(a,b,x)\n",
        "  return(0.5/num) *(np.square(prediction-y)).sum()"
      ],
      "execution_count": 39,
      "outputs": []
    },
    {
      "cell_type": "code",
      "metadata": {
        "id": "B3xXCmyt42sq"
      },
      "source": [
        ""
      ],
      "execution_count": null,
      "outputs": []
    },
    {
      "cell_type": "code",
      "metadata": {
        "id": "Q8bUCliO5IDP",
        "outputId": "140db90c-0f6b-4adc-c30b-0a9605153210",
        "colab": {
          "base_uri": "https://localhost:8080/"
        }
      },
      "source": [
        "\n",
        "#create list \n",
        "x=[3,21,22,34,54,34,55,67,89,99]\n",
        "# change list to array \n",
        "x=np.array(x)\n",
        "y=[1,10,14,34,44,36,22,67,79,90]\n",
        "y=np.array(y)"
      ],
      "execution_count": 41,
      "outputs": [
        {
          "output_type": "execute_result",
          "data": {
            "text/plain": [
              "array([ 11,  65,  68, 104, 164, 104, 167, 203, 269, 299])"
            ]
          },
          "metadata": {},
          "execution_count": 41
        }
      ]
    },
    {
      "cell_type": "code",
      "metadata": {
        "id": "5TRLG9xU5L_n"
      },
      "source": [
        "#the most commnly used loss function of linear regression model\n",
        "#is the loss function \n",
        "# mean varience different \n",
        "def loss_function(a,b,x,y):\n",
        "  num=len(x)\n",
        "  prediction=model(a,b,x)\n",
        "  return(0.5/num) *(np.square(prediction-y)).sum()\n",
        "  "
      ],
      "execution_count": null,
      "outputs": []
    },
    {
      "cell_type": "code",
      "metadata": {
        "id": "ZdUadMiZ4Bed"
      },
      "source": [
        ""
      ],
      "execution_count": 41,
      "outputs": []
    },
    {
      "cell_type": "markdown",
      "metadata": {
        "id": "7lpgwtZf5_Ef"
      },
      "source": [
        "the optimization function mainly uses \n",
        "**partial deriviative** to update two parameters \n",
        "**a and b **"
      ]
    },
    {
      "cell_type": "code",
      "metadata": {
        "id": "ACMr2T6R39aP"
      },
      "source": [
        "def optimize(a,b,x,y):\n",
        "  num=len(x)\n",
        "  prediction=model(a,b,x)\n",
        "  #update the values a and b by finding the partial deriviative \n",
        "  #partial deriviative \n",
        "  da=(1.0/num)*((prediction-y)*x).sum()\n",
        "  db=(1.0/num)*((prediction-y).sum())\n",
        "  a=a-lr*da\n",
        "  b=b-lr*da\n",
        "  return a ,b "
      ],
      "execution_count": 44,
      "outputs": []
    },
    {
      "cell_type": "markdown",
      "metadata": {
        "id": "zEAIHV8j87qz"
      },
      "source": [
        "***start the iteration ***"
      ]
    },
    {
      "cell_type": "markdown",
      "metadata": {
        "id": "iCL_ok6U9BRM"
      },
      "source": [
        "step1:intialize and iterative optimization model "
      ]
    },
    {
      "cell_type": "code",
      "metadata": {
        "id": "cv56GUhMuyZU",
        "outputId": "9754e8c5-5435-489f-b983-d7db5a6f80da",
        "colab": {
          "base_uri": "https://localhost:8080/"
        }
      },
      "source": [
        "#intialize a parameter \n",
        "a=np.random.rand(1)\n",
        "print(a)\n",
        "b=np.random.rand(1)\n",
        "print(b)\n",
        "lr=1e-4"
      ],
      "execution_count": 48,
      "outputs": [
        {
          "output_type": "stream",
          "name": "stdout",
          "text": [
            "[0.90127386]\n",
            "[0.37930649]\n"
          ]
        }
      ]
    },
    {
      "cell_type": "markdown",
      "metadata": {
        "id": "yHdS2kPm9sDV"
      },
      "source": [
        "for the first iteration the parameter values lossess \n",
        "and visualization \n",
        "after iteration are displayedbold text "
      ]
    }
  ]
}